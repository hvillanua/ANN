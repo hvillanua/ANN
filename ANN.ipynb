{
 "cells": [
  {
   "cell_type": "markdown",
   "metadata": {},
   "source": [
    "# Simple artificial neural network\n",
    "The aim of this notebook is to write a simple and easy to use artificial neural network.\n",
    "We'll start by importing the only necessary library for the implementation to work."
   ]
  },
  {
   "cell_type": "code",
   "execution_count": 1,
   "metadata": {
    "collapsed": true
   },
   "outputs": [],
   "source": [
    "import numpy as np"
   ]
  },
  {
   "cell_type": "markdown",
   "metadata": {},
   "source": [
    "We can separate the implementation in two classes:\n",
    "- FCN (Fully connected layer): This class will contain the weights and biases for each layer.\n",
    "    It will also be responsible for calculating the output for the layer given some inputs,\n",
    "    as well as calculating the delta to update the weights and backpropagate the error\n",
    "    to previous layers.\n",
    "- ANN (Artificial neural network): This class creates a fully connected artificial neural network consisting of\n",
    "    layers made of FCN objects. It's responsible for implementing SGD, train and predict methods."
   ]
  },
  {
   "cell_type": "code",
   "execution_count": 2,
   "metadata": {
    "collapsed": true
   },
   "outputs": [],
   "source": [
    "# Fully connected layer\n",
    "class FCN:\n",
    "    def __init__(self, input_nodes, hidden_nodes, activation_fn, use_bias=False):\n",
    "        self.input_nodes = input_nodes\n",
    "        self.hidden_nodes = hidden_nodes\n",
    "        self.activation_function = activation_fn\n",
    "        \n",
    "        self.weights = np.random.normal(0.0, self.input_nodes**-0.5,\n",
    "                                        (self.input_nodes, self.hidden_nodes))\n",
    "        \n",
    "        self.use_bias = use_bias\n",
    "        if self.use_bias:\n",
    "            self.bias = np.zeros((1, self.hidden_nodes))\n",
    "            self.delta_bias = np.zeros(self.bias.shape)\n",
    "                                        \n",
    "        self.delta_weights = np.zeros(self.weights.shape)\n",
    "        \n",
    "    def initialize_delta(self):\n",
    "        self.delta_weights = np.zeros(self.weights.shape)\n",
    "        if self.use_bias:\n",
    "            self.delta_bias = np.zeros(self.bias.shape)\n",
    "            \n",
    "    def update_weights(self, lr, n_features):\n",
    "        self.weights += lr * self.delta_weights / n_features\n",
    "        if self.use_bias:\n",
    "            self.bias += lr * self.delta_bias / n_features\n",
    "                                        \n",
    "    def forward(self, features):\n",
    "        self.input = features\n",
    "        self.output = np.dot(features, self.weights)\n",
    "        if self.use_bias:\n",
    "            self.output += self.bias\n",
    "        if self.activation_function is not None:\n",
    "            self.output = self.activation_function(self.output)\n",
    "        return self.output\n",
    "        \n",
    "    def backprop(self, error, first_layer=False):\n",
    "        # Calculate delta to update weights\n",
    "        #print('Input shape:', self.input.T.shape, 'Error shape:', error.shape)\n",
    "        self.delta_weights += np.dot(self.input.T, error)\n",
    "        if self.use_bias:\n",
    "            self.delta_bias += error\n",
    "        # If it's not the first layer, calculate contribution to error\n",
    "        # to pass to previous layer. Else save up computation time.\n",
    "        if not first_layer:\n",
    "            layer_error = np.dot(error, self.weights.T)\n",
    "            # The derivative of the the sigmoid activation function is\n",
    "            # f'(x) = f(x) * (1-f(x)). Thus, we can reuse f(x) which is\n",
    "            # the input to the current layer\n",
    "            layer_error *= self.input * (1 - self.input)\n",
    "            return layer_error\n",
    "        else:\n",
    "            return None"
   ]
  },
  {
   "cell_type": "code",
   "execution_count": 3,
   "metadata": {
    "collapsed": true
   },
   "outputs": [],
   "source": [
    "# Artificial neural network\n",
    "class ANN:\n",
    "    '''\n",
    "    ANN using mini-batch SGD\n",
    "    '''\n",
    "    def __init__(self, input_nodes, hidden_layers, hidden_nodes, output_nodes, learning_rate, use_bias=False):\n",
    "        # Set class variables\n",
    "        self.input_nodes = input_nodes\n",
    "        self.hidden_layers = hidden_layers\n",
    "        self.hidden_nodes = hidden_nodes\n",
    "        self.output_nodes = output_nodes\n",
    "        self.lr = learning_rate\n",
    "        \n",
    "        # Define sigmoid activation function\n",
    "        self.activation_function = lambda x : 1/(1+np.exp(-x))\n",
    "        \n",
    "        # Initialize net\n",
    "        self.layers = [FCN(input_nodes, hidden_nodes, self.activation_function, use_bias)] + \\\n",
    "            [FCN(hidden_nodes, hidden_nodes, self.activation_function, use_bias) for i in range(hidden_layers-1)] + \\\n",
    "            [FCN(hidden_nodes, output_nodes, None, use_bias)]\n",
    "            \n",
    "    def _forward(self, X):\n",
    "        input_x = X\n",
    "        for layer in self.layers:\n",
    "            output = layer.forward(input_x)\n",
    "            input_x = output\n",
    "        return output\n",
    "            \n",
    "    def _backprop(self, output, target):\n",
    "        error = target - output\n",
    "        for i, layer in enumerate(reversed(self.layers)):\n",
    "            if i<len(self.layers)-1:\n",
    "                layer_error = layer.backprop(error)\n",
    "                error = layer_error\n",
    "                assert error is not None\n",
    "            else:\n",
    "                # Skip error calculation for backprop on first layer\n",
    "                # since it's connected to inputs\n",
    "                assert layer.backprop(error, first_layer=True) is None\n",
    "                \n",
    "    def _initialize_deltas(self):\n",
    "        for layer in self.layers:\n",
    "            layer.initialize_delta()\n",
    "                \n",
    "    def _update_weights(self, n_samples):\n",
    "        for layer in self.layers:\n",
    "            layer.update_weights(self.lr, n_samples)\n",
    "\n",
    "    def train(self, features, targets):\n",
    "        ''' \n",
    "        Train the network on batch of features and targets. \n",
    "        \n",
    "        Arguments\n",
    "        ---------\n",
    "\n",
    "        features: numpy 2D array, each row is one data record, each column is a feature\n",
    "        targets: numpy 1D array of target values\n",
    "        \n",
    "        '''\n",
    "        \n",
    "        if len(features.shape) != 2:\n",
    "            raise ValueError('Features dimensions do not match. Correct ' +\\\n",
    "                              'shape should be (n_samples, n_samples).')\n",
    "        if len(targets.shape) != 1:\n",
    "            raise ValueError('Targets dimensions do not match. Correct '  +\\\n",
    "                              'shape should be (n_samples,).')\n",
    "        if features.shape[0] != targets.shape[0]:\n",
    "            raise ValueError('Features and targets have different amount of samples.')\n",
    "        \n",
    "        features = features[:, None]\n",
    "        n_samples = features.shape[0]\n",
    "        # Reset delta for every layer before training with new batch\n",
    "        self._initialize_deltas()\n",
    "            \n",
    "        # Start training\n",
    "        for X, y in zip(features, targets):\n",
    "            # Forward pass\n",
    "            output = self._forward(X)\n",
    "                \n",
    "            # Backpropagation\n",
    "            self._backprop(output, y)\n",
    "            \n",
    "        # Update weights after training with batch\n",
    "        self._update_weights(n_samples)\n",
    "            \n",
    "    def predict(self, features):\n",
    "        ''' \n",
    "        Make predictions based on input features.\n",
    "        \n",
    "        Arguments\n",
    "        ---------\n",
    "\n",
    "        features: numpy 2D array, each row is one data record, each column is a feature\n",
    "\n",
    "        '''\n",
    "        if len(features.shape) != 2:\n",
    "            raise ValueError('Features dimensions do not match. Correct ' +\\\n",
    "                              'shape should be (n_samples, n_samples).')\n",
    "        if features.shape[1] != self.input_nodes:\n",
    "            raise ValueError('Number of input features do not match training ' +\\\n",
    "                             'number of features (' + str(features.shape[1]) +\\\n",
    "                             ' != ' + str(self.input_nodes) + ')')\n",
    "                            \n",
    "        return self._forward(features)"
   ]
  },
  {
   "cell_type": "markdown",
   "metadata": {},
   "source": [
    "# Load dataset, train and test\n",
    "We will now load, train and test on the Iris dataset, although the Sonar dataset is also included and can be used instead.\n",
    "\n",
    "First let's import the necessary libraries to read, preprocess and split the data."
   ]
  },
  {
   "cell_type": "code",
   "execution_count": 4,
   "metadata": {
    "collapsed": true
   },
   "outputs": [],
   "source": [
    "import csv\n",
    "from sklearn.utils import shuffle\n",
    "from sklearn.model_selection import train_test_split\n",
    "from sklearn.preprocessing import LabelEncoder\n",
    "import matplotlib.pyplot as plt\n",
    "%matplotlib inline"
   ]
  },
  {
   "cell_type": "markdown",
   "metadata": {},
   "source": [
    "Now we will create 2 functions to calculate mean square error for the model loss and another one to calculate the accuracy of the model."
   ]
  },
  {
   "cell_type": "code",
   "execution_count": 5,
   "metadata": {
    "collapsed": true
   },
   "outputs": [],
   "source": [
    "def MSE(labels, predicted):\n",
    "    return np.mean((labels-predicted)**2)\n",
    "def acuracy(labels, predicted):\n",
    "    return (labels == predicted.round()).sum()*100/labels.shape[0]"
   ]
  },
  {
   "cell_type": "markdown",
   "metadata": {},
   "source": [
    "Read data from dataset, encode the labels and split into training (70%) and test (30%) data."
   ]
  },
  {
   "cell_type": "code",
   "execution_count": 6,
   "metadata": {
    "collapsed": true
   },
   "outputs": [],
   "source": [
    "with open('iris.data', 'r') as csvfile:\n",
    "    reader = csv.reader(csvfile, delimiter=',', quotechar='\\\"', quoting=csv.QUOTE_NONNUMERIC)\n",
    "    X = []\n",
    "    y = []\n",
    "    for row in reader:\n",
    "        X.append(row[:-1])\n",
    "        y.append(row[-1])\n",
    "    \n",
    "X = np.array(X)\n",
    "y = np.array(y)\n",
    "le = LabelEncoder()\n",
    "y = le.fit_transform(y)\n",
    "X_train, X_test, y_train, y_test = train_test_split(X, y, test_size=0.3)"
   ]
  },
  {
   "cell_type": "markdown",
   "metadata": {},
   "source": [
    "Define hyperparameters and create the ANN.\n",
    "\n",
    "We will also create a get_batches function to create batches that we'll use for mini-batch SGD."
   ]
  },
  {
   "cell_type": "code",
   "execution_count": 7,
   "metadata": {
    "collapsed": true
   },
   "outputs": [],
   "source": [
    "learning_rate = 0.4\n",
    "hidden_layers = 1\n",
    "hidden_nodes = 8\n",
    "output_nodes = 1\n",
    "use_bias = False\n",
    "\n",
    "ann = ANN(X_train.shape[1], hidden_layers, hidden_nodes, output_nodes,\n",
    "          learning_rate, use_bias)\n",
    "\n",
    "def get_batches(X, y, batch_size=32):\n",
    "    for batch in range(0, len(X), batch_size):\n",
    "        yield X[batch:batch+batch_size], y[batch:batch+batch_size]"
   ]
  },
  {
   "cell_type": "markdown",
   "metadata": {},
   "source": [
    "Define the number of epochs that we want to train for. We will use all the training data on each training step fed on mini-batches.\n",
    "\n",
    "We will also calculate the training and test loss and accuracy to plot them later."
   ]
  },
  {
   "cell_type": "code",
   "execution_count": 8,
   "metadata": {},
   "outputs": [
    {
     "name": "stdout",
     "output_type": "stream",
     "text": [
      "Epoch 0 :\n",
      "Training loss: 0.311888169454 Training accuracy: 66.6666666667\n",
      "Test loss: 0.336929637196 Test accuracy: 64.4444444444\n",
      "Epoch 100 :\n",
      "Training loss: 0.0790841490826 Training accuracy: 89.5238095238\n",
      "Test loss: 0.085709135804 Test accuracy: 88.8888888889\n",
      "Epoch 200 :\n",
      "Training loss: 0.0498537319624 Training accuracy: 94.2857142857\n",
      "Test loss: 0.0583924203539 Test accuracy: 88.8888888889\n",
      "Epoch 300 :\n",
      "Training loss: 0.0404035552179 Training accuracy: 96.1904761905\n",
      "Test loss: 0.0507556710008 Test accuracy: 91.1111111111\n",
      "Epoch 400 :\n",
      "Training loss: 0.0348858945154 Training accuracy: 96.1904761905\n",
      "Test loss: 0.0474010553065 Test accuracy: 93.3333333333\n",
      "Epoch 500 :\n",
      "Training loss: 0.031518845781 Training accuracy: 97.1428571429\n",
      "Test loss: 0.0459783501768 Test accuracy: 93.3333333333\n",
      "Epoch 600 :\n",
      "Training loss: 0.0292651367002 Training accuracy: 98.0952380952\n",
      "Test loss: 0.0453444875901 Test accuracy: 93.3333333333\n",
      "Epoch 700 :\n",
      "Training loss: 0.0275024556778 Training accuracy: 98.0952380952\n",
      "Test loss: 0.0450049396391 Test accuracy: 95.5555555556\n",
      "Epoch 800 :\n",
      "Training loss: 0.0259809138473 Training accuracy: 99.0476190476\n",
      "Test loss: 0.0447896619836 Test accuracy: 95.5555555556\n",
      "Epoch 900 :\n",
      "Training loss: 0.0245897111068 Training accuracy: 99.0476190476\n",
      "Test loss: 0.0446438227206 Test accuracy: 93.3333333333\n"
     ]
    }
   ],
   "source": [
    "epochs = 1000\n",
    "train_accuracies = []\n",
    "test_accuracies = []\n",
    "train_losses = []\n",
    "test_losses = []\n",
    "for e in range(epochs):\n",
    "    for batch_x, batch_y in get_batches(X_train, y_train):\n",
    "        ann.train(batch_x, batch_y)\n",
    "        \n",
    "    train_acc = acuracy(y_train[:, None], ann.predict(X_train))\n",
    "    test_acc = acuracy(y_test[:, None], ann.predict(X_test))\n",
    "    train_loss = MSE(y_train, ann.predict(X_train).T)\n",
    "    test_loss = MSE(y_test, ann.predict(X_test).T)\n",
    "    if e%100 == 0:\n",
    "        print('Epoch', e, ':')\n",
    "        print('Training loss:', train_loss, 'Training accuracy:', train_acc)\n",
    "        print('Test loss:', test_loss, 'Test accuracy:', test_acc)\n",
    "    \n",
    "    train_accuracies.append(train_acc)\n",
    "    test_accuracies.append(test_acc)\n",
    "    train_losses.append(train_loss)\n",
    "    test_losses.append(test_loss)"
   ]
  },
  {
   "cell_type": "markdown",
   "metadata": {},
   "source": [
    "# Visualize loss and learning curves\n",
    "Let's print the loss and the accuracy of the model to see if it performs well!"
   ]
  },
  {
   "cell_type": "code",
   "execution_count": 9,
   "metadata": {},
   "outputs": [
    {
     "data": {
      "image/png": "[encoded data removed]",
      "text/plain": [
       "<matplotlib.figure.Figure at 0x7f0c4d935cc0>"
      ]
     },
     "metadata": {},
     "output_type": "display_data"
    }
   ],
   "source": [
    "plt.plot(train_losses, label='Training loss')\n",
    "plt.plot(test_losses, label='Test loss')\n",
    "plt.legend()\n",
    "_ = plt.ylim()"
   ]
  },
  {
   "cell_type": "code",
   "execution_count": 10,
   "metadata": {},
   "outputs": [
    {
     "data": {
      "image/png": "[encoded data removed]",
      "text/plain": [
       "<matplotlib.figure.Figure at 0x7f0c1a3e0ef0>"
      ]
     },
     "metadata": {},
     "output_type": "display_data"
    }
   ],
   "source": [
    "plt.plot(train_accuracies, label='Training accuracy')\n",
    "plt.plot(test_accuracies, label='Test accuracy')\n",
    "plt.legend()\n",
    "_ = plt.ylim()"
   ]
  },
  {
   "cell_type": "markdown",
   "metadata": {},
   "source": [
    "Let's predict the output of the test set to see how it looks like."
   ]
  },
  {
   "cell_type": "code",
   "execution_count": 11,
   "metadata": {},
   "outputs": [
    {
     "name": "stdout",
     "output_type": "stream",
     "text": [
      "[[  1.47495828e+00]\n",
      " [  8.99629219e-01]\n",
      " [  1.54229526e+00]\n",
      " [  1.58228187e+00]\n",
      " [  9.02619572e-01]\n",
      " [ -2.55937918e-02]\n",
      " [  2.04492545e+00]\n",
      " [ -2.64806008e-02]\n",
      " [  9.07951919e-01]\n",
      " [ -4.44604707e-03]\n",
      " [  1.12282287e+00]\n",
      " [  1.51609341e+00]\n",
      " [  1.02925269e+00]\n",
      " [  1.94967460e+00]\n",
      " [  2.02928473e+00]\n",
      " [  7.84369242e-01]\n",
      " [  8.62400351e-01]\n",
      " [  9.32435494e-04]\n",
      " [  9.94552421e-03]\n",
      " [  2.02504861e+00]\n",
      " [  1.78919130e+00]\n",
      " [  2.01397186e+00]\n",
      " [ -2.69694944e-02]\n",
      " [  8.79041815e-03]\n",
      " [  1.99342943e+00]\n",
      " [ -1.12448977e-02]\n",
      " [  1.95583907e+00]\n",
      " [  9.35465415e-01]\n",
      " [  1.07551153e+00]\n",
      " [  9.81717296e-01]\n",
      " [  1.92339269e+00]\n",
      " [ -4.33052070e-02]\n",
      " [  8.95330131e-01]\n",
      " [ -2.28542942e-02]\n",
      " [  1.52442920e+00]\n",
      " [ -3.41680070e-02]\n",
      " [  1.83779042e+00]\n",
      " [  9.03781341e-01]\n",
      " [  6.60045409e-03]\n",
      " [  1.16875590e-02]\n",
      " [  1.96400889e+00]\n",
      " [ -3.96173858e-03]\n",
      " [  1.99940265e+00]\n",
      " [  1.20085720e+00]\n",
      " [  2.04153014e+00]]\n"
     ]
    }
   ],
   "source": [
    "print(ann.predict(X_test))"
   ]
  }
 ],
 "metadata": {
  "kernelspec": {
   "display_name": "Python 3",
   "language": "python",
   "name": "python3"
  },
  "language_info": {
   "codemirror_mode": {
    "name": "ipython",
    "version": 3
   },
   "file_extension": ".py",
   "mimetype": "text/x-python",
   "name": "python",
   "nbconvert_exporter": "python",
   "pygments_lexer": "ipython3",
   "version": "3.5.2"
  },
  "widgets": {
   "state": {},
   "version": "1.1.2"
  }
 },
 "nbformat": 4,
 "nbformat_minor": 2
}
